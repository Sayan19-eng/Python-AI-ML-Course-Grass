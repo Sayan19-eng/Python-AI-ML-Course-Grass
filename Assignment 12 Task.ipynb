{
 "cells": [
  {
   "cell_type": "code",
   "execution_count": 1,
   "id": "d4380c51",
   "metadata": {},
   "outputs": [
    {
     "name": "stdout",
     "output_type": "stream",
     "text": [
      "Guess the number : 30\n",
      "Think a big number!\n",
      "Guess the number : 45\n",
      "Think a low number!\n",
      "Guess the number : 37\n",
      "Think a big number!\n",
      "Guess the number : 40\n",
      "Think a big number!\n",
      "Guess the number : 42\n",
      "Think a low number!\n",
      "5 attempts are completed(The number was 41). Try Again\n"
     ]
    }
   ],
   "source": [
    "import random\n",
    "def game():\n",
    "    n=random.randint(1,50)\n",
    "    i=0\n",
    "    while(i<5):\n",
    "        u=int(input(\"Guess the number : \"))\n",
    "        if(u>50 or u<1):\n",
    "            print(\"Think in Limits 1-50 only!\")\n",
    "            i-=1\n",
    "        elif(u>n):\n",
    "            print(\"Think a low number!\")\n",
    "        elif(u<n):\n",
    "            print(\"Think a big number!\")\n",
    "        else:\n",
    "            print(f\"Congratulations!. You have guessed it correctly in attempt no {i+1}\")\n",
    "            return\n",
    "        i+=1\n",
    "    print(f\"5 attempts are completed(The number was {n}). Try Again\")\n",
    "game()"
   ]
  },
  {
   "cell_type": "code",
   "execution_count": 3,
   "id": "e52e4190",
   "metadata": {},
   "outputs": [
    {
     "name": "stdout",
     "output_type": "stream",
     "text": [
      "3\n",
      "4\n",
      "2\n",
      "5\n",
      "[[0, 0, 0], [0, 0, 1], [0, 0, 2], [0, 1, 0], [0, 1, 1], [0, 1, 2], [0, 2, 0], [0, 2, 1], [0, 2, 2], [0, 3, 0], [0, 3, 1], [0, 4, 0], [0, 4, 2], [1, 0, 0], [1, 0, 1], [1, 0, 2], [1, 1, 0], [1, 1, 1], [1, 1, 2], [1, 2, 0], [1, 2, 1], [1, 3, 0], [1, 3, 2], [1, 4, 1], [1, 4, 2], [2, 0, 0], [2, 0, 1], [2, 0, 2], [2, 1, 0], [2, 1, 1], [2, 2, 0], [2, 2, 2], [2, 3, 1], [2, 3, 2], [2, 4, 0], [2, 4, 1], [2, 4, 2], [3, 0, 0], [3, 0, 1], [3, 1, 0], [3, 1, 2], [3, 2, 1], [3, 2, 2], [3, 3, 0], [3, 3, 1], [3, 3, 2], [3, 4, 0], [3, 4, 1], [3, 4, 2]]\n"
     ]
    }
   ],
   "source": [
    "if __name__ == '__main__':\n",
    "    x = int(input())\n",
    "    y = int(input())\n",
    "    z = int(input())\n",
    "    n = int(input())\n",
    "    out=[]\n",
    "    for i in range(x + 1): \n",
    "        for j in range(y + 1): \n",
    "            for m in range(z + 1): \n",
    "                if ((i + j + m) != n):\n",
    "                    out.append([i,j,m])\n",
    "                    \n",
    "    print(out)"
   ]
  },
  {
   "cell_type": "code",
   "execution_count": null,
   "id": "b98cf7cd",
   "metadata": {},
   "outputs": [],
   "source": [
    "if __name__ == '__main__':\n",
    "    N = int(input())\n",
    "    ls = list()\n",
    "    while N>0:\n",
    "        N -=1\n",
    "        command = input().split()\n",
    "        if command[0] == \"insert\":\n",
    "            ls.insert(int(command[1]),int(command[2]))\n",
    "        elif command[0] == \"remove\":\n",
    "            ls.remove(int(command[1]))\n",
    "        elif command[0] == \"print\":\n",
    "            print(ls)\n",
    "        elif command[0] == \"sort\":\n",
    "            ls.sort()\n",
    "        elif command[0] == \"append\":\n",
    "            ls.append(int(command[1]))\n",
    "        elif command[0] == \"pop\":\n",
    "            ls.pop()\n",
    "        elif command[0] ==\"reverse\":\n",
    "            ls = ls[::-1]\n",
    "        else:\n",
    "            pass"
   ]
  },
  {
   "cell_type": "code",
   "execution_count": null,
   "id": "9be77764",
   "metadata": {},
   "outputs": [],
   "source": [
    "if __name__ == '__main__':\n",
    "    n = int(input())\n",
    "student_marks = {}\n",
    "for _ in range(n):\n",
    "    line = input().split()\n",
    "name, scores = line[0], line[1:]\n",
    "scores = map(float, scores)\n",
    "student_marks[name] = scores\n",
    "query_name = input()\n",
    "marks=0\n",
    "for i in student_marks[query_name]:\n",
    "    marks=marks+i\n",
    "avg=marks/3\n",
    "print(\"%.2f\"%avg)"
   ]
  },
  {
   "cell_type": "code",
   "execution_count": null,
   "id": "e8708937",
   "metadata": {},
   "outputs": [],
   "source": [
    "if __name__ == '__main__':\n",
    "    n = int(input())\n",
    "student_marks = {}\n",
    "for _ in range(n):\n",
    "    line = input().split()\n",
    "name, scores = line[0], line[1:]\n",
    "scores = map(float, scores)\n",
    "student_marks[name] = scores\n",
    "query_name = input()\n",
    "marks=0\n",
    "for i in student_marks[query_name]:\n",
    "    marks=marks+i\n",
    "avg=marks/3\n",
    "print(\"%.2f\"%avg)"
   ]
  },
  {
   "cell_type": "code",
   "execution_count": 6,
   "id": "4051cbff",
   "metadata": {},
   "outputs": [
    {
     "name": "stdout",
     "output_type": "stream",
     "text": [
      "Array before sorting:  [8, 6, 5, 7]\n",
      "Array after sorting:  [5, 6, 7, 8]\n"
     ]
    }
   ],
   "source": [
    "#Bubble Sort\n",
    "arr=[8,6,5,7]\n",
    "print('Array before sorting: ',arr)\n",
    "for i in range(0,len(arr)):\n",
    "    for j in range(0,len(arr)-1-i):\n",
    "        if arr[j]>arr[j+1]:\n",
    "            temp=arr[j]\n",
    "            arr[j]=arr[j+1]\n",
    "            arr[j+1]=temp\n",
    "print('Array after sorting: ',arr)"
   ]
  },
  {
   "cell_type": "code",
   "execution_count": 7,
   "id": "ccbb337d",
   "metadata": {},
   "outputs": [
    {
     "name": "stdout",
     "output_type": "stream",
     "text": [
      "Array before sorting:  [8, 6, 5, 7]\n",
      "Array after sorting:  [5, 6, 7, 8]\n"
     ]
    }
   ],
   "source": [
    "#Insertion Sort\n",
    "arr=[8,6,5,7]\n",
    "print('Array before sorting: ',arr)\n",
    "for i in range(1,len(arr)):\n",
    "    k=arr[i]\n",
    "    j=i-1\n",
    "    while j>=0 and k<arr[j]:\n",
    "        arr[j+1]=arr[j]\n",
    "        j-=1\n",
    "    arr[j+1]=k\n",
    "print('Array after sorting: ',arr)"
   ]
  },
  {
   "cell_type": "code",
   "execution_count": 8,
   "id": "7e73a0f6",
   "metadata": {},
   "outputs": [
    {
     "name": "stdout",
     "output_type": "stream",
     "text": [
      "Array before sorting:  [8, 6, 5, 7]\n",
      "Array after sorting:  [5, 6, 7, 8]\n"
     ]
    }
   ],
   "source": [
    "#Selection Sort\n",
    "arr=[8,6,5,7]\n",
    "print('Array before sorting: ',arr)\n",
    "for i in range(0,len(arr)-1):\n",
    "    for j in range(i+1,len(arr)):\n",
    "        if arr[i]>arr[j]:\n",
    "            temp=arr[i]\n",
    "            arr[i]=arr[j]\n",
    "            arr[j]=temp\n",
    "print('Array after sorting: ',arr)"
   ]
  },
  {
   "cell_type": "code",
   "execution_count": null,
   "id": "7faac421",
   "metadata": {},
   "outputs": [],
   "source": []
  }
 ],
 "metadata": {
  "kernelspec": {
   "display_name": "Python 3 (ipykernel)",
   "language": "python",
   "name": "python3"
  },
  "language_info": {
   "codemirror_mode": {
    "name": "ipython",
    "version": 3
   },
   "file_extension": ".py",
   "mimetype": "text/x-python",
   "name": "python",
   "nbconvert_exporter": "python",
   "pygments_lexer": "ipython3",
   "version": "3.9.13"
  }
 },
 "nbformat": 4,
 "nbformat_minor": 5
}
