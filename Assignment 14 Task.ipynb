{
 "cells": [
  {
   "cell_type": "code",
   "execution_count": 1,
   "id": "5858a068",
   "metadata": {},
   "outputs": [
    {
     "name": "stdout",
     "output_type": "stream",
     "text": [
      "Enter a number: 2453\n",
      "Sum of digits: 5\n"
     ]
    }
   ],
   "source": [
    "def digit_sum(num):\n",
    "    while num > 9:\n",
    "        sum_of_digits = 0\n",
    "        while num > 0:\n",
    "            sum_of_digits += num % 10\n",
    "            num //= 10\n",
    "        num = sum_of_digits\n",
    "    return num\n",
    "\n",
    "number = int(input(\"Enter a number: \"))\n",
    "result = digit_sum(number)\n",
    "print(\"Sum of digits:\", result)"
   ]
  },
  {
   "cell_type": "code",
   "execution_count": 2,
   "id": "41d0a523",
   "metadata": {},
   "outputs": [
    {
     "name": "stdout",
     "output_type": "stream",
     "text": [
      "Enter the first number: 15\n",
      "Enter the second number: 20\n",
      "LCM: 60\n",
      "HCF: 5\n"
     ]
    }
   ],
   "source": [
    "def calculate_lcm(x, y):\n",
    "    if x > y:\n",
    "        greater = x\n",
    "    else:\n",
    "        greater = y\n",
    "\n",
    "    while True:\n",
    "        if greater % x == 0 and greater % y == 0:\n",
    "            lcm = greater\n",
    "            break\n",
    "        greater += 1\n",
    "\n",
    "    return lcm\n",
    "\n",
    "\n",
    "def calculate_hcf(x, y):\n",
    "    while y:\n",
    "        x, y = y, x % y\n",
    "\n",
    "    return x\n",
    "\n",
    "num1 = int(input(\"Enter the first number: \"))\n",
    "num2 = int(input(\"Enter the second number: \"))\n",
    "\n",
    "lcm = calculate_lcm(num1, num2)\n",
    "hcf = calculate_hcf(num1, num2)\n",
    "\n",
    "print(\"LCM:\", lcm)\n",
    "print(\"HCF:\", hcf)"
   ]
  },
  {
   "cell_type": "code",
   "execution_count": 3,
   "id": "56fd063c",
   "metadata": {},
   "outputs": [
    {
     "name": "stdout",
     "output_type": "stream",
     "text": [
      "Enter a number: 27\n",
      "27\n",
      "216\n",
      "729\n",
      "1728\n",
      "3375\n",
      "5832\n",
      "9261\n",
      "13824\n",
      "19683\n"
     ]
    }
   ],
   "source": [
    "def print_cube_divisible_by_3(n):\n",
    "    for i in range(1, n + 1):\n",
    "        if i % 3 != 0:\n",
    "            continue\n",
    "        print(i ** 3)\n",
    "\n",
    "number = int(input(\"Enter a number: \"))\n",
    "print_cube_divisible_by_3(number)"
   ]
  },
  {
   "cell_type": "code",
   "execution_count": 8,
   "id": "9ed642b8",
   "metadata": {},
   "outputs": [
    {
     "name": "stdout",
     "output_type": "stream",
     "text": [
      "Enter roll of student 1 : 1002\n",
      "Enter marks seperated by space : 95 92 96\n",
      "Number of students who got total above 200 : 1\n",
      "Highest marks scored is 283 by roll 1002\n"
     ]
    }
   ],
   "source": [
    "def operation():\n",
    "    d={}\n",
    "    for i in range(1):\n",
    "        roll=int(input(f\"Enter roll of student {i+1} : \"))\n",
    "        if(roll>9999 or roll<1000):\n",
    "            print(\"Incorrect roll.Enter again!\")\n",
    "            i-=1\n",
    "        else:\n",
    "            l=[int(m) for m in input(\"Enter marks seperated by space : \").split()]\n",
    "            if(l[0]>=40 and l[1]>=40 and l[2]>=40):\n",
    "                d[roll]=sum(l)\n",
    "    count=0\n",
    "    max=0\n",
    "    roll=0\n",
    "    for k,v in d.items():\n",
    "        if v>200:\n",
    "            count+=1\n",
    "        if max<v:\n",
    "            max=v\n",
    "            roll=k\n",
    "    print(f\"Number of students who got total above 200 : {count}\")\n",
    "    print(f\"Highest marks scored is {max} by roll {roll}\")\n",
    "    \n",
    "operation()"
   ]
  },
  {
   "cell_type": "code",
   "execution_count": 9,
   "id": "2d8a5ba3",
   "metadata": {},
   "outputs": [
    {
     "name": "stdout",
     "output_type": "stream",
     "text": [
      "Enter a number: 274384\n",
      "Number of digits: 6\n"
     ]
    }
   ],
   "source": [
    "def count_digits(num):\n",
    "    count = 0\n",
    "    if num == 0:\n",
    "        return 1  # Special case for 0\n",
    "\n",
    "    while num != 0:\n",
    "        num //= 10\n",
    "        count += 1\n",
    "\n",
    "    return count\n",
    "\n",
    "number = int(input(\"Enter a number: \"))\n",
    "digit_count = count_digits(number)\n",
    "print(\"Number of digits:\", digit_count)"
   ]
  },
  {
   "cell_type": "code",
   "execution_count": 10,
   "id": "1ab4af90",
   "metadata": {},
   "outputs": [
    {
     "name": "stdout",
     "output_type": "stream",
     "text": [
      "Enter a number: 3456\n",
      "Reverse: 6543\n",
      "Double of the Reverse: 13086\n"
     ]
    }
   ],
   "source": [
    "def reverse_number(num):\n",
    "    reverse = 0\n",
    "    while num != 0:\n",
    "        remainder = num % 10\n",
    "        reverse = reverse * 10 + remainder\n",
    "        num //= 10\n",
    "    return reverse\n",
    "\n",
    "number = int(input(\"Enter a number: \"))\n",
    "reverse = reverse_number(number)\n",
    "double_reverse = reverse * 2\n",
    "print(\"Reverse:\", reverse)\n",
    "print(\"Double of the Reverse:\", double_reverse)\n"
   ]
  },
  {
   "cell_type": "code",
   "execution_count": null,
   "id": "96561aee",
   "metadata": {},
   "outputs": [],
   "source": []
  }
 ],
 "metadata": {
  "kernelspec": {
   "display_name": "Python 3 (ipykernel)",
   "language": "python",
   "name": "python3"
  },
  "language_info": {
   "codemirror_mode": {
    "name": "ipython",
    "version": 3
   },
   "file_extension": ".py",
   "mimetype": "text/x-python",
   "name": "python",
   "nbconvert_exporter": "python",
   "pygments_lexer": "ipython3",
   "version": "3.9.13"
  }
 },
 "nbformat": 4,
 "nbformat_minor": 5
}
