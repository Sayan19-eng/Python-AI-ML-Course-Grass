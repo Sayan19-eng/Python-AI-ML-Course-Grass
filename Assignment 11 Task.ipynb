{
 "cells": [
  {
   "cell_type": "code",
   "execution_count": 1,
   "id": "df5020ef",
   "metadata": {},
   "outputs": [
    {
     "name": "stdout",
     "output_type": "stream",
     "text": [
      "*\n",
      "**\n",
      "***\n",
      "****\n",
      "*****\n"
     ]
    }
   ],
   "source": [
    "#Q1(a)\n",
    "i=1\n",
    "while i<=5:\n",
    "    s='*'*i\n",
    "    print(s)\n",
    "    i=i+1\n"
   ]
  },
  {
   "cell_type": "code",
   "execution_count": 2,
   "id": "fdcfe695",
   "metadata": {},
   "outputs": [
    {
     "name": "stdout",
     "output_type": "stream",
     "text": [
      "1\n",
      "22\n",
      "333\n",
      "4444\n",
      "55555\n"
     ]
    }
   ],
   "source": [
    "#Q1(b)\n",
    "i=1\n",
    "while i<=5:\n",
    "    s=str(i)*i\n",
    "    print(s)\n",
    "    i=i+1"
   ]
  },
  {
   "cell_type": "code",
   "execution_count": 3,
   "id": "4426a617",
   "metadata": {},
   "outputs": [
    {
     "name": "stdout",
     "output_type": "stream",
     "text": [
      "1\n",
      "12\n",
      "123\n",
      "1234\n",
      "12345\n"
     ]
    }
   ],
   "source": [
    "#Q1(c)\n",
    "for i in range(1,6):\n",
    "    for j in range(1,i+1):\n",
    "        print(j,end='')\n",
    "    print()"
   ]
  },
  {
   "cell_type": "code",
   "execution_count": 4,
   "id": "c1d6b028",
   "metadata": {},
   "outputs": [
    {
     "name": "stdout",
     "output_type": "stream",
     "text": [
      "2\n",
      "34\n",
      "456\n",
      "5678\n",
      "678910\n"
     ]
    }
   ],
   "source": [
    "#Q1(d)\n",
    "for i in range(1,6):\n",
    "    for j in range(1,i+1):\n",
    "        print(j+i,end='')\n",
    "    print()"
   ]
  },
  {
   "cell_type": "code",
   "execution_count": 5,
   "id": "62db1c8a",
   "metadata": {},
   "outputs": [
    {
     "name": "stdout",
     "output_type": "stream",
     "text": [
      "1\n",
      "01\n",
      "101\n",
      "0101\n",
      "10101\n"
     ]
    }
   ],
   "source": [
    "#Q1(e)\n",
    "for i in range(1,6):\n",
    "    for j in range(1,i+1):\n",
    "        if (i+j)%2==0:\n",
    "            print(1,end='')\n",
    "        else:\n",
    "            print(0,end='')\n",
    "    print()"
   ]
  },
  {
   "cell_type": "code",
   "execution_count": 7,
   "id": "7e648c25",
   "metadata": {},
   "outputs": [
    {
     "name": "stdout",
     "output_type": "stream",
     "text": [
      "1 \n",
      "2 3 \n",
      "4 5 6 \n",
      "7 8 9 10 \n",
      "11 12 13 14 15 \n"
     ]
    }
   ],
   "source": [
    "#Q1(f)\n",
    "rows = 5\n",
    "\n",
    "current_number = 1\n",
    "for i in range(1, rows + 1):\n",
    "    for j in range(1, i + 1):\n",
    "        print(current_number, end=\" \")\n",
    "        current_number += 1\n",
    "    print()\n"
   ]
  },
  {
   "cell_type": "code",
   "execution_count": 8,
   "id": "5a1a6ead",
   "metadata": {},
   "outputs": [
    {
     "name": "stdout",
     "output_type": "stream",
     "text": [
      "5 \n",
      "5 4 \n",
      "5 4 3 \n",
      "5 4 3 2 \n",
      "5 4 3 2 1 \n"
     ]
    }
   ],
   "source": [
    "#Q1(g)\n",
    "rows = 5\n",
    "\n",
    "for i in range(1, rows + 1):\n",
    "    for j in range(rows, rows - i, -1):\n",
    "        print(j, end=\" \")\n",
    "    print()\n"
   ]
  },
  {
   "cell_type": "code",
   "execution_count": 9,
   "id": "b10fd1bb",
   "metadata": {},
   "outputs": [
    {
     "name": "stdout",
     "output_type": "stream",
     "text": [
      "5 \n",
      "4 4 \n",
      "3 3 3 \n",
      "2 2 2 2 \n",
      "1 1 1 1 1 \n"
     ]
    }
   ],
   "source": [
    "#Q1(h)\n",
    "rows = 5\n",
    "\n",
    "for i in range(rows, 0, -1):\n",
    "    for j in range(rows - i + 1):\n",
    "        print(i, end=\" \")\n",
    "    print()\n"
   ]
  },
  {
   "cell_type": "code",
   "execution_count": 10,
   "id": "5745e2bd",
   "metadata": {},
   "outputs": [
    {
     "name": "stdout",
     "output_type": "stream",
     "text": [
      "* * * * * \n",
      "* * * * \n",
      "* * * \n",
      "* * \n",
      "* \n"
     ]
    }
   ],
   "source": [
    "#Q1(i)\n",
    "rows = 5\n",
    "\n",
    "for i in range(rows, 0, -1):\n",
    "    for j in range(i):\n",
    "        print(\"*\", end=\" \")\n",
    "    print()"
   ]
  },
  {
   "cell_type": "code",
   "execution_count": 15,
   "id": "cf40cdde",
   "metadata": {},
   "outputs": [
    {
     "name": "stdout",
     "output_type": "stream",
     "text": [
      "11111\n",
      "2222\n",
      "333\n",
      "22\n",
      "1\n"
     ]
    }
   ],
   "source": [
    "#Q1(j)\n",
    "i=5\n",
    "n=1\n",
    "while i>=1:\n",
    "    s=str(n)*i\n",
    "    print(s)\n",
    "    if i<=5//2+1:\n",
    "        n=n-1\n",
    "    else:\n",
    "        n=n+1\n",
    "    i=i-1"
   ]
  },
  {
   "cell_type": "code",
   "execution_count": 17,
   "id": "482dc9b0",
   "metadata": {},
   "outputs": [
    {
     "name": "stdout",
     "output_type": "stream",
     "text": [
      "1 2 3 4 5 \n",
      "1 2 3 4 \n",
      "1 2 3 \n",
      "1 2 \n",
      "1 \n"
     ]
    }
   ],
   "source": [
    "#Q1(k)\n",
    "rows = 5\n",
    "for i in range(rows, 0, -1):\n",
    "    for j in range(1, i + 1):\n",
    "        print(j, end=\" \")\n",
    "    print()\n"
   ]
  },
  {
   "cell_type": "code",
   "execution_count": 18,
   "id": "ba44b450",
   "metadata": {},
   "outputs": [
    {
     "name": "stdout",
     "output_type": "stream",
     "text": [
      "5 5 5 5 5 \n",
      "4 4 4 4 \n",
      "3 3 3 \n",
      "2 2 \n",
      "1 \n"
     ]
    }
   ],
   "source": [
    "#Q1(l)\n",
    "rows = 5\n",
    "for i in range(rows, 0, -1):\n",
    "    for j in range(i):\n",
    "        print(i, end=\" \")\n",
    "    print()\n"
   ]
  },
  {
   "cell_type": "code",
   "execution_count": 19,
   "id": "e8ec0a49",
   "metadata": {},
   "outputs": [
    {
     "name": "stdout",
     "output_type": "stream",
     "text": [
      "5 4 3 2 1 \n",
      "5 4 3 2 \n",
      "5 4 3 \n",
      "5 4 \n",
      "5 \n"
     ]
    }
   ],
   "source": [
    "#Q1(m)\n",
    "rows = 5\n",
    "for i in range(rows, 0, -1):\n",
    "    for j in range(rows, rows - i, -1):\n",
    "        print(j, end=\" \")\n",
    "    print()\n"
   ]
  },
  {
   "cell_type": "code",
   "execution_count": 20,
   "id": "ca707b88",
   "metadata": {},
   "outputs": [
    {
     "name": "stdout",
     "output_type": "stream",
     "text": [
      "        * \n",
      "      * * * \n",
      "    * * * * * \n",
      "  * * * * * * * \n",
      "* * * * * * * * * \n"
     ]
    }
   ],
   "source": [
    "#Q2(r)\n",
    "rows = 5\n",
    "for i in range(rows):\n",
    "    for j in range(rows - i - 1):\n",
    "        print(\" \", end=\" \")\n",
    "    for k in range(2 * i + 1):\n",
    "        print(\"*\", end=\" \")\n",
    "    print()\n"
   ]
  },
  {
   "cell_type": "code",
   "execution_count": 21,
   "id": "69c8b57c",
   "metadata": {},
   "outputs": [
    {
     "name": "stdout",
     "output_type": "stream",
     "text": [
      "        1 \n",
      "      2 2 2 \n",
      "    3 3 3 3 3 \n",
      "  4 4 4 4 4 4 4 \n",
      "5 5 5 5 5 5 5 5 5 \n"
     ]
    }
   ],
   "source": [
    "#Q2(s)\n",
    "rows = 5\n",
    "for i in range(1, rows + 1):\n",
    "    for j in range(rows - i):\n",
    "        print(\" \", end=\" \")\n",
    "    for k in range(2 * i - 1):\n",
    "        print(i, end=\" \")\n",
    "    print()"
   ]
  },
  {
   "cell_type": "code",
   "execution_count": 22,
   "id": "34545e41",
   "metadata": {},
   "outputs": [
    {
     "name": "stdout",
     "output_type": "stream",
     "text": [
      "        1 \n",
      "      1 2 3 \n",
      "    1 2 3 4 5 \n",
      "  1 2 3 4 5 6 7 \n",
      "1 2 3 4 5 6 7 8 9 \n"
     ]
    }
   ],
   "source": [
    "#Q2(t)\n",
    "rows = 5\n",
    "for i in range(1, rows + 1):\n",
    "    for j in range(rows - i):\n",
    "        print(\" \", end=\" \")\n",
    "    for k in range(1, 2 * i):\n",
    "        print(k, end=\" \")\n",
    "    print()\n"
   ]
  },
  {
   "cell_type": "code",
   "execution_count": 24,
   "id": "88c71033",
   "metadata": {},
   "outputs": [
    {
     "name": "stdout",
     "output_type": "stream",
     "text": [
      "        * \n",
      "      * * * \n",
      "    * * * * * \n",
      "  * * * * * * * \n",
      "* * * * * * * * * \n"
     ]
    }
   ],
   "source": [
    "#Q2(u)\n",
    "rows = 5\n",
    "for i in range(rows):\n",
    "    for j in range(rows - i - 1):\n",
    "        print(\" \", end=\" \")\n",
    "    for k in range(2 * i + 1):\n",
    "        print(\"*\", end=\" \")\n",
    "    print()\n"
   ]
  },
  {
   "cell_type": "code",
   "execution_count": 27,
   "id": "8f751d04",
   "metadata": {},
   "outputs": [
    {
     "name": "stdout",
     "output_type": "stream",
     "text": [
      "    1     \n",
      "   232    \n",
      "  34543   \n",
      " 4567654  \n",
      "567898765 \n"
     ]
    }
   ],
   "source": [
    "#Q3(v)\n",
    "n=0\n",
    "for i in range(1,6):\n",
    "    st=''\n",
    "    for j in range(1,2*i):\n",
    "        if j<=i:\n",
    "            n=n+1\n",
    "        else:\n",
    "            n=n-1\n",
    "        st=st+str(n)\n",
    "    print(st.center(10))\n"
   ]
  },
  {
   "cell_type": "code",
   "execution_count": 28,
   "id": "f92e64fa",
   "metadata": {},
   "outputs": [
    {
     "name": "stdout",
     "output_type": "stream",
     "text": [
      "    5     \n",
      "   545    \n",
      "  54345   \n",
      " 5432345  \n",
      "543212345 \n"
     ]
    }
   ],
   "source": [
    "#Q3(w)\n",
    "for i in range(1,6):\n",
    "    st=''\n",
    "    n=6\n",
    "    for j in range(1,2*i):\n",
    "        if j<=i:\n",
    "            n=n-1\n",
    "        else:\n",
    "            n=n+1\n",
    "        st=st+str(n)\n",
    "    print(st.center(10))"
   ]
  },
  {
   "cell_type": "code",
   "execution_count": 29,
   "id": "8ea6746a",
   "metadata": {},
   "outputs": [
    {
     "name": "stdout",
     "output_type": "stream",
     "text": [
      "********* \n",
      " *******  \n",
      "  *****   \n",
      "   ***    \n",
      "    *     \n"
     ]
    }
   ],
   "source": [
    "#Q3(x)\n",
    "for i in range(5,0,-1):\n",
    "    s=''\n",
    "    for j in range(1,2*i):\n",
    "        s=s+'*'\n",
    "    print(s.center(10))"
   ]
  },
  {
   "cell_type": "code",
   "execution_count": 30,
   "id": "82d06827",
   "metadata": {},
   "outputs": [
    {
     "name": "stdout",
     "output_type": "stream",
     "text": [
      "555555555 \n",
      " 4444444  \n",
      "  33333   \n",
      "   222    \n",
      "    1     \n"
     ]
    }
   ],
   "source": [
    "#Q3(y)\n",
    "n=5\n",
    "for i in range(5,0,-1):\n",
    "    s=''\n",
    "    for j in range(1,2*i):\n",
    "        s=s+str(n)\n",
    "    print(s.center(10))\n",
    "    n=n-1"
   ]
  },
  {
   "cell_type": "code",
   "execution_count": 31,
   "id": "a049c9d3",
   "metadata": {},
   "outputs": [
    {
     "name": "stdout",
     "output_type": "stream",
     "text": [
      "123456789 \n",
      " 1234567  \n",
      "  12345   \n",
      "   123    \n",
      "    1     \n"
     ]
    }
   ],
   "source": [
    "#Q3(z)\n",
    "for i in range(5,0,-1):\n",
    "    s=''\n",
    "    for j in range(1,2*i):\n",
    "        s=s+str(j)\n",
    "    print(s.center(10))"
   ]
  },
  {
   "cell_type": "code",
   "execution_count": 32,
   "id": "d96af6be",
   "metadata": {},
   "outputs": [
    {
     "name": "stdout",
     "output_type": "stream",
     "text": [
      "567898765 \n",
      " 4567654  \n",
      "  34543   \n",
      "   232    \n",
      "    1     \n"
     ]
    }
   ],
   "source": [
    "#Q3(z1)\n",
    "for i in range(5,0,-1):\n",
    "    st=''\n",
    "    n=i-1\n",
    "    for j in range(1,2*i):\n",
    "        if j<=i:\n",
    "            n=n+1\n",
    "        else:\n",
    "            n=n-1\n",
    "        st=st+str(n)\n",
    "    print(st.center(10))"
   ]
  },
  {
   "cell_type": "code",
   "execution_count": 33,
   "id": "975d64c9",
   "metadata": {},
   "outputs": [
    {
     "name": "stdout",
     "output_type": "stream",
     "text": [
      "543212345 \n",
      " 5432345  \n",
      "  54345   \n",
      "   545    \n",
      "    5     \n"
     ]
    }
   ],
   "source": [
    "#Q3(z2)\n",
    "for i in range(5,0,-1):\n",
    "    st=''\n",
    "    n=6\n",
    "    for j in range(1,2*i):\n",
    "        if j<=i:\n",
    "            n=n-1\n",
    "        else:\n",
    "            n=n+1\n",
    "        st=st+str(n)\n",
    "    print(st.center(10))"
   ]
  },
  {
   "cell_type": "code",
   "execution_count": 34,
   "id": "57a9e2c5",
   "metadata": {},
   "outputs": [
    {
     "name": "stdout",
     "output_type": "stream",
     "text": [
      "    *     \n",
      "   ***    \n",
      "  *****   \n",
      " *******  \n",
      "********* \n",
      " *******  \n",
      "  *****   \n",
      "   ***    \n",
      "    *     \n"
     ]
    }
   ],
   "source": [
    "#Q4(z3)\n",
    "for i in range(1,6):\n",
    "    s=''\n",
    "    for j in range(1,2*i):\n",
    "        s=s+'*'\n",
    "    print(s.center(10))\n",
    "for i in range(4,0,-1):\n",
    "    s=''\n",
    "    for j in range(1,2*i):\n",
    "        s=s+'*'\n",
    "    print(s.center(10))"
   ]
  },
  {
   "cell_type": "code",
   "execution_count": 35,
   "id": "6d9dcf1e",
   "metadata": {},
   "outputs": [
    {
     "name": "stdout",
     "output_type": "stream",
     "text": [
      "    1     \n",
      "   222    \n",
      "  33333   \n",
      " 4444444  \n",
      "555555555 \n",
      " 4444444  \n",
      "  33333   \n",
      "   222    \n",
      "    1     \n"
     ]
    }
   ],
   "source": [
    "#Q4(z4)\n",
    "n=1\n",
    "for i in range(1,6):\n",
    "    s=''\n",
    "    for j in range(1,2*i):\n",
    "        s=s+str(n)\n",
    "    print(s.center(10))\n",
    "    n=n+1\n",
    "n=4\n",
    "for i in range(4,0,-1):\n",
    "    s=''\n",
    "    for j in range(1,2*i):\n",
    "        s=s+str(n)\n",
    "    print(s.center(10))\n",
    "    n=n-1"
   ]
  },
  {
   "cell_type": "code",
   "execution_count": 36,
   "id": "4bb90796",
   "metadata": {},
   "outputs": [
    {
     "name": "stdout",
     "output_type": "stream",
     "text": [
      "    1     \n",
      "   123    \n",
      "  12345   \n",
      " 1234567  \n",
      "123456789 \n",
      " 1234567  \n",
      "  12345   \n",
      "   123    \n",
      "    1     \n"
     ]
    }
   ],
   "source": [
    "#Q4(z5)\n",
    "for i in range(1,6):\n",
    "    s=''\n",
    "    for j in range(1,2*i):\n",
    "        s=s+str(j)\n",
    "    print(s.center(10))\n",
    "for i in range(4,0,-1):\n",
    "    s=''\n",
    "    for j in range(1,2*i):\n",
    "        s=s+str(j)\n",
    "    print(s.center(10))"
   ]
  },
  {
   "cell_type": "code",
   "execution_count": 37,
   "id": "48d30096",
   "metadata": {},
   "outputs": [
    {
     "name": "stdout",
     "output_type": "stream",
     "text": [
      "    1     \n",
      "   232    \n",
      "  34543   \n",
      " 4567654  \n",
      "567898765 \n",
      " 4567654  \n",
      "  34543   \n",
      "   232    \n",
      "    1     \n"
     ]
    }
   ],
   "source": [
    "#Q4(z6)\n",
    "n=0\n",
    "for i in range(1,6):\n",
    "    st=''\n",
    "    for j in range(1,2*i):\n",
    "        if j<=i:\n",
    "            n=n+1\n",
    "        else:\n",
    "            n=n-1\n",
    "        st=st+str(n)\n",
    "    print(st.center(10))\n",
    "for i in range(4,0,-1):\n",
    "    st=''\n",
    "    n=i-1\n",
    "    for j in range(1,2*i):\n",
    "        if j<=i:\n",
    "            n=n+1\n",
    "        else:\n",
    "            n=n-1\n",
    "        st=st+str(n)\n",
    "    print(st.center(10))"
   ]
  },
  {
   "cell_type": "code",
   "execution_count": 38,
   "id": "38da2713",
   "metadata": {},
   "outputs": [
    {
     "name": "stdout",
     "output_type": "stream",
     "text": [
      "    5     \n",
      "   545    \n",
      "  54345   \n",
      " 5432345  \n",
      "543212345 \n",
      " 5432345  \n",
      "  54345   \n",
      "   545    \n",
      "    5     \n"
     ]
    }
   ],
   "source": [
    "#Q4(z7)\n",
    "for i in range(1,6):\n",
    "    st=''\n",
    "    n=6\n",
    "    for j in range(1,2*i):\n",
    "        if j<=i:\n",
    "            n=n-1\n",
    "        else:\n",
    "            n=n+1\n",
    "        st=st+str(n)\n",
    "    print(st.center(10))\n",
    "for i in range(4,0,-1):\n",
    "    st=''\n",
    "    n=6\n",
    "    for j in range(1,2*i):\n",
    "        if j<=i:\n",
    "            n=n-1\n",
    "        else:\n",
    "            n=n+1\n",
    "        st=st+str(n)\n",
    "    print(st.center(10))"
   ]
  },
  {
   "cell_type": "code",
   "execution_count": 39,
   "id": "36d401d3",
   "metadata": {},
   "outputs": [
    {
     "name": "stdout",
     "output_type": "stream",
     "text": [
      "*******\n",
      "*******\n",
      "*******\n",
      "*******\n",
      "*******\n",
      "*******\n",
      "*******\n"
     ]
    }
   ],
   "source": [
    "#Q4(z8)\n",
    "for i in range(1,8):\n",
    "    for j in range(1,8):\n",
    "        print('*',end='')\n",
    "    print()"
   ]
  },
  {
   "cell_type": "code",
   "execution_count": 40,
   "id": "57a3dc79",
   "metadata": {},
   "outputs": [
    {
     "name": "stdout",
     "output_type": "stream",
     "text": [
      "*******\n",
      "*     *\n",
      "*     *\n",
      "*     *\n",
      "*     *\n",
      "*     *\n",
      "*******\n"
     ]
    }
   ],
   "source": [
    "#Q4(z9)\n",
    "for i in range(1,8):\n",
    "    for j in range(1,8):\n",
    "        if i in (1,7):\n",
    "            print('*',end='')\n",
    "        elif j in (1,7):\n",
    "            print('*',end='')\n",
    "        else:\n",
    "            print(' ',end='')\n",
    "    print()"
   ]
  },
  {
   "cell_type": "code",
   "execution_count": 41,
   "id": "683380c1",
   "metadata": {},
   "outputs": [
    {
     "name": "stdout",
     "output_type": "stream",
     "text": [
      "\\*****/\n",
      "*\\***/*\n",
      "**\\*/**\n",
      "***\\***\n",
      "**/*\\**\n",
      "*/***\\*\n",
      "/*****\\\n"
     ]
    }
   ],
   "source": [
    "#Q4(z10)\n",
    "for i in range(1,8):\n",
    "    for j in range(1,8):\n",
    "        if i==j:\n",
    "            print('\\\\',end='')\n",
    "        elif i+j==8:\n",
    "            print('/',end='')\n",
    "        else:\n",
    "            print('*',end='')\n",
    "    print()"
   ]
  },
  {
   "cell_type": "code",
   "execution_count": 43,
   "id": "b6aaa555",
   "metadata": {},
   "outputs": [
    {
     "name": "stdout",
     "output_type": "stream",
     "text": [
      "Enter no of rows: 11\n",
      "Enter no of columns: 33\n",
      "---------------.|.---------------\n",
      "------------.|..|..|.------------\n",
      "---------.|..|..|..|..|.---------\n",
      "------.|..|..|..|..|..|..|.------\n",
      "---.|..|..|..|..|..|..|..|..|.---\n",
      "-------------WELCOME-------------\n",
      "---.|..|..|..|..|..|..|..|..|.---\n",
      "------.|..|..|..|..|..|..|.------\n",
      "---------.|..|..|..|..|.---------\n",
      "------------.|..|..|.------------\n",
      "---------------.|.---------------\n"
     ]
    }
   ],
   "source": [
    "#Q5(a)\n",
    "r=int(input('Enter no of rows: '))\n",
    "c=int(input('Enter no of columns: '))\n",
    "for i in range(1,r//2+1):\n",
    "    s=''\n",
    "    for j in range(1,2*i):\n",
    "        s=s+'.|.'\n",
    "    print(s.center(c,'-'))\n",
    "print('WELCOME'.center(c,'-'))\n",
    "for i in range(r//2,0,-1):\n",
    "    s=''\n",
    "    for j in range(1,2*i):\n",
    "        s=s+'.|.'\n",
    "    print(s.center(c,'-'))"
   ]
  },
  {
   "cell_type": "code",
   "execution_count": 44,
   "id": "3eb5d008",
   "metadata": {},
   "outputs": [
    {
     "name": "stdout",
     "output_type": "stream",
     "text": [
      "Enter size: 10\n",
      "------------------j------------------\n",
      "----------------j-i-j----------------\n",
      "--------------j-i-h-i-j--------------\n",
      "------------j-i-h-g-h-i-j------------\n",
      "----------j-i-h-g-f-g-h-i-j----------\n",
      "--------j-i-h-g-f-e-f-g-h-i-j--------\n",
      "------j-i-h-g-f-e-d-e-f-g-h-i-j------\n",
      "----j-i-h-g-f-e-d-c-d-e-f-g-h-i-j----\n",
      "--j-i-h-g-f-e-d-c-b-c-d-e-f-g-h-i-j--\n",
      "j-i-h-g-f-e-d-c-b-a-b-c-d-e-f-g-h-i-j\n",
      "--j-i-h-g-f-e-d-c-b-c-d-e-f-g-h-i-j--\n",
      "----j-i-h-g-f-e-d-c-d-e-f-g-h-i-j----\n",
      "------j-i-h-g-f-e-d-e-f-g-h-i-j------\n",
      "--------j-i-h-g-f-e-f-g-h-i-j--------\n",
      "----------j-i-h-g-f-g-h-i-j----------\n",
      "------------j-i-h-g-h-i-j------------\n",
      "--------------j-i-h-i-j--------------\n",
      "----------------j-i-j----------------\n",
      "------------------j------------------\n"
     ]
    }
   ],
   "source": [
    "#Q5(b)\n",
    "s=int(input('Enter size: '))\n",
    "for i in range(1,s+1):\n",
    "    l=[]\n",
    "    n=97+s\n",
    "    for j in range(1,2*i):\n",
    "        if j<=i:\n",
    "            n=n-1\n",
    "        else:\n",
    "            n=n+1\n",
    "        l.append(chr(n))\n",
    "    st='-'.join(l)\n",
    "    print(st.center(37,'-'))\n",
    "for i in range(s-1,0,-1):\n",
    "    l=[]\n",
    "    n=97+s\n",
    "    for j in range(1,2*i):\n",
    "        if j<=i:\n",
    "            n=n-1\n",
    "        else:\n",
    "            n=n+1\n",
    "        l.append(chr(n))\n",
    "    st='-'.join(l)\n",
    "    print(st.center(37,'-'))"
   ]
  },
  {
   "cell_type": "code",
   "execution_count": null,
   "id": "f1885b55",
   "metadata": {},
   "outputs": [],
   "source": []
  }
 ],
 "metadata": {
  "kernelspec": {
   "display_name": "Python 3 (ipykernel)",
   "language": "python",
   "name": "python3"
  },
  "language_info": {
   "codemirror_mode": {
    "name": "ipython",
    "version": 3
   },
   "file_extension": ".py",
   "mimetype": "text/x-python",
   "name": "python",
   "nbconvert_exporter": "python",
   "pygments_lexer": "ipython3",
   "version": "3.9.13"
  }
 },
 "nbformat": 4,
 "nbformat_minor": 5
}
