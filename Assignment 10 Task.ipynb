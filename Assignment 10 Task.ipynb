{
 "cells": [
  {
   "cell_type": "code",
   "execution_count": 2,
   "id": "ac4c7d35",
   "metadata": {},
   "outputs": [
    {
     "name": "stdout",
     "output_type": "stream",
     "text": [
      "Enter a number: 403\n",
      "403 is not a palindrome\n"
     ]
    }
   ],
   "source": [
    "n = int(input(\"Enter a number: \"))\n",
    "num = n\n",
    "rev = 0\n",
    "while num!=0:\n",
    "    rev *= 10\n",
    "    rev += num%10\n",
    "    num = num//10\n",
    "if rev==n:\n",
    "    print(f'{n} is a palindrome')\n",
    "else:\n",
    "    print(f'{n} is not a palindrome')"
   ]
  },
  {
   "cell_type": "code",
   "execution_count": 5,
   "id": "f69ade15",
   "metadata": {},
   "outputs": [
    {
     "name": "stdout",
     "output_type": "stream",
     "text": [
      "Enter lower limit: 33\n",
      "Enter upper limit: 67\n",
      "33\n",
      "35\n",
      "36\n",
      "39\n",
      "40\n",
      "42\n",
      "45\n",
      "48\n",
      "50\n",
      "51\n",
      "54\n",
      "55\n",
      "57\n",
      "60\n",
      "63\n",
      "65\n",
      "66\n"
     ]
    }
   ],
   "source": [
    "ll = int(input(\"Enter lower limit: \"))\n",
    "ul = int(input(\"Enter upper limit: \"))\n",
    "for i in range(ll, ul+1):\n",
    "    if i%5==0 or i%3==0:\n",
    "        print(i)"
   ]
  },
  {
   "cell_type": "code",
   "execution_count": 7,
   "id": "fe498b70",
   "metadata": {},
   "outputs": [
    {
     "name": "stdout",
     "output_type": "stream",
     "text": [
      "Enter a number: 7\n",
      "5040\n"
     ]
    }
   ],
   "source": [
    "def fact(n):\n",
    "    if n==1:\n",
    "        return 1\n",
    "    return n*fact(n-1)\n",
    "n = int(input(\"Enter a number: \"))\n",
    "print(fact(n))"
   ]
  },
  {
   "cell_type": "code",
   "execution_count": 12,
   "id": "cc1bb3c3",
   "metadata": {},
   "outputs": [
    {
     "name": "stdout",
     "output_type": "stream",
     "text": [
      "Enter a number: 5\n",
      "0\n",
      "1\n",
      "1\n",
      "2\n",
      "3\n"
     ]
    }
   ],
   "source": [
    "n = int(input(\"Enter a number: \"))\n",
    "f1= 1\n",
    "f0 = 0\n",
    "for i in range(0, n):\n",
    "    if i==0 or i==1:\n",
    "        print(i)\n",
    "    else:\n",
    "        temp = f0 + f1\n",
    "        f0 = f1\n",
    "        f1 = temp\n",
    "        print(f1)\n"
   ]
  },
  {
   "cell_type": "code",
   "execution_count": 16,
   "id": "32eff190",
   "metadata": {},
   "outputs": [
    {
     "name": "stdout",
     "output_type": "stream",
     "text": [
      "Enter a number: 407\n",
      "407 is an armstrong number\n"
     ]
    }
   ],
   "source": [
    "n = int(input(\"Enter a number: \"))\n",
    "s = 0\n",
    "num = n\n",
    "while num!=0:\n",
    "    s += (num%10)**3\n",
    "    num = num//10\n",
    "if n==s:\n",
    "    print(f'{n} is an armstrong number')\n",
    "else:\n",
    "    print(f'{n} is not an armstrong number')"
   ]
  },
  {
   "cell_type": "code",
   "execution_count": null,
   "id": "8baeac15",
   "metadata": {},
   "outputs": [],
   "source": []
  }
 ],
 "metadata": {
  "kernelspec": {
   "display_name": "Python 3 (ipykernel)",
   "language": "python",
   "name": "python3"
  },
  "language_info": {
   "codemirror_mode": {
    "name": "ipython",
    "version": 3
   },
   "file_extension": ".py",
   "mimetype": "text/x-python",
   "name": "python",
   "nbconvert_exporter": "python",
   "pygments_lexer": "ipython3",
   "version": "3.9.13"
  }
 },
 "nbformat": 4,
 "nbformat_minor": 5
}
