{
 "cells": [
  {
   "cell_type": "code",
   "execution_count": 1,
   "id": "efb19043",
   "metadata": {},
   "outputs": [
    {
     "name": "stdout",
     "output_type": "stream",
     "text": [
      "Enter a string: My name is Sayan Bera. I study in KIIT.\n",
      "Vowel Counts: {'a': 4, 'e': 2, 'i': 5, 'o': 0, 'u': 1}\n"
     ]
    }
   ],
   "source": [
    "def count_vowels(string):\n",
    "    vowels = 'aeiou'\n",
    "    vowel_count = {vowel: 0 for vowel in vowels}\n",
    "\n",
    "    for char in string:\n",
    "        if char.lower() in vowels:\n",
    "            vowel_count[char.lower()] += 1\n",
    "    return vowel_count\n",
    "\n",
    "input_string = input(\"Enter a string: \")\n",
    "vowel_counts = count_vowels(input_string)\n",
    "print(\"Vowel Counts:\", vowel_counts)"
   ]
  },
  {
   "cell_type": "code",
   "execution_count": 2,
   "id": "9ea6f145",
   "metadata": {},
   "outputs": [
    {
     "name": "stdout",
     "output_type": "stream",
     "text": [
      "Enter a string: My Name is Sayan Bera, I study in KIIT, I live in Kolkata.\n",
      "Number of words: 13\n",
      "Number of characters: 58\n",
      "Number of spaces: 12\n"
     ]
    }
   ],
   "source": [
    "def count_statistics(string):\n",
    "    word_count = len(string.split())\n",
    "    char_count = len(string)\n",
    "    space_count = string.count(' ')\n",
    "    \n",
    "    return word_count, char_count, space_count\n",
    "\n",
    "input_string = input(\"Enter a string: \")\n",
    "word_count, char_count, space_count = count_statistics(input_string)\n",
    "print(\"Number of words:\", word_count)\n",
    "print(\"Number of characters:\", char_count)\n",
    "print(\"Number of spaces:\", space_count)"
   ]
  },
  {
   "cell_type": "code",
   "execution_count": 1,
   "id": "f2532532",
   "metadata": {},
   "outputs": [
    {
     "name": "stdout",
     "output_type": "stream",
     "text": [
      "Enter a string: Gfg, is best : for ! Geeks ;\n",
      "Og string:  Gfg, is best : for ! Geeks ;\n",
      "After removing punc:  Gfg is best  for  Geeks \n"
     ]
    }
   ],
   "source": [
    "s=input('Enter a string: ')\n",
    "print('Og string: ',s)\n",
    "punc='''!()-[]}{;:'\"\\,<>./?@#$%^&*_~'''\n",
    "for i in s:\n",
    "    if i in punc:\n",
    "        s=s.replace(i,'')\n",
    "print('After removing punc: ',s)"
   ]
  },
  {
   "cell_type": "code",
   "execution_count": 5,
   "id": "d6da9a9d",
   "metadata": {},
   "outputs": [
    {
     "name": "stdout",
     "output_type": "stream",
     "text": [
      "Enter number of rows : 2\n",
      "Enter number of cols : 2\n",
      "Enter element of row 1 and col 1 : 1\n",
      "Enter element of row 1 and col 2 : 2\n",
      "Enter element of row 2 and col 1 : 3\n",
      "Enter element of row 2 and col 2 : 4\n",
      "[[1, 2, 3, 4], [1, 2, 3, 4]]\n"
     ]
    }
   ],
   "source": [
    "import pprint\n",
    "def operation(l):\n",
    "    m=int(input(\"Enter number of rows : \"))\n",
    "    n=int(input(\"Enter number of cols : \"))\n",
    "    l1=[]\n",
    "    for i in range(m):\n",
    "        for j in range(n):\n",
    "            l1.append(int(input(f\"Enter element of row {i+1} and col {j+1} : \")))\n",
    "        l.append(l1)\n",
    "l=[]\n",
    "operation(l)\n",
    "print(l)"
   ]
  },
  {
   "cell_type": "code",
   "execution_count": 6,
   "id": "30ef472a",
   "metadata": {},
   "outputs": [
    {
     "name": "stdout",
     "output_type": "stream",
     "text": [
      "[[2, 2, 2], [5, 5, 5], [6, 6, 6]]\n",
      "[[3, 3, 3], [4, 4, 4], [1, 1, 1]]\n",
      "[[5, 5, 5], [9, 9, 9], [7, 7, 7]]\n",
      "[[16, 16, 16], [40, 40, 40], [48, 48, 48]]\n",
      "[[2, 5, 6], [2, 5, 6], [2, 5, 6]]\n"
     ]
    }
   ],
   "source": [
    "m1=[[2,2,2],[5,5,5],[6,6,6]]\n",
    "m2=[[3,3,3],[4,4,4],[1,1,1]]\n",
    "print(m1)\n",
    "print(m2)\n",
    "\n",
    "def add(x,y):\n",
    "    sum=[]\n",
    "    for i in range(0,3):\n",
    "        a=[]\n",
    "        for j in range(0,3):\n",
    "            a.append(x[i][j]+y[i][j])\n",
    "        sum.append(a)\n",
    "    print(sum)\n",
    "\n",
    "add(m1,m2)\n",
    "\n",
    "def mul(x,y):\n",
    "    prod=[[0,0,0],[0,0,0],[0,0,0]]\n",
    "    for i in range(len(x)):\n",
    "        for j in range(len(y[0])):\n",
    "            for k in range(len(y)):\n",
    "                prod[i][j] += x[i][k] * y[k][j]\n",
    "    print(prod)\n",
    "\n",
    "mul(m1,m2)\n",
    "\n",
    "def transpose(x):\n",
    "    result=[[0,0,0],[0,0,0],[0,0,0]]\n",
    "    for i in range(len(x)):\n",
    "        for j in range(len(x[0])):\n",
    "            result[j][i] = x[i][j]\n",
    "    print(result)\n",
    "\n",
    "transpose(m1)"
   ]
  }
 ],
 "metadata": {
  "kernelspec": {
   "display_name": "Python 3 (ipykernel)",
   "language": "python",
   "name": "python3"
  },
  "language_info": {
   "codemirror_mode": {
    "name": "ipython",
    "version": 3
   },
   "file_extension": ".py",
   "mimetype": "text/x-python",
   "name": "python",
   "nbconvert_exporter": "python",
   "pygments_lexer": "ipython3",
   "version": "3.9.13"
  }
 },
 "nbformat": 4,
 "nbformat_minor": 5
}
